{
 "cells": [
  {
   "cell_type": "markdown",
   "id": "0519f570",
   "metadata": {},
   "source": [
    "## Predicting Health Professional Shortage Areas "
   ]
  },
  {
   "cell_type": "markdown",
   "id": "57894746",
   "metadata": {},
   "source": [
    "HPSA, short for \"Health Professional Shortage Area\", is a federal government term for a specific region or location that is experiencing a shortage of healthcare professionals. Every so often, HPSA Scores are developed by the National Health Service Corps in determining priority of assignment of clinicians to certain areas. The scores range from 0 to 26 where the higher the score, the greater the priority. In this project, I will train a Machine Learning model to predict Primary Care* HPSA scores based on various location metrics (county income, unemployment rate, etc) using features taken from other government websites such as the US Bureau of Labor Statistics."
   ]
  },
  {
   "cell_type": "markdown",
   "id": "6c73d6ed",
   "metadata": {},
   "source": [
    "### Step 1: ETL"
   ]
  },
  {
   "cell_type": "markdown",
   "id": "d2cc2928",
   "metadata": {},
   "source": [
    "This data is taken from the https://data.hrsa.gov/ website in individual XLSX files by state. Unfortunately, each state's data is separately stored, meaning we will have to extract and load each state iteratively. Let's take a peek at a single state for now loaded in a variable peek_data, that encompasses the data for Alabama."
   ]
  },
  {
   "cell_type": "code",
   "execution_count": 1,
   "id": "6a8c343c",
   "metadata": {},
   "outputs": [
    {
     "data": {
      "text/html": [
       "<style  type=\"text/css\" >\n",
       "</style><table id=\"T_b4f79_\" ><thead>    <tr>        <th class=\"blank level0\" ></th>        <th class=\"col_heading level0 col0\" >Discipline</th>        <th class=\"col_heading level0 col1\" >HPSA ID</th>        <th class=\"col_heading level0 col2\" >HPSA Name</th>        <th class=\"col_heading level0 col3\" >Designation Type</th>        <th class=\"col_heading level0 col4\" >Primary State Name</th>        <th class=\"col_heading level0 col5\" >County Name</th>        <th class=\"col_heading level0 col6\" >HPSA FTE Short</th>        <th class=\"col_heading level0 col7\" >HPSA Score</th>        <th class=\"col_heading level0 col8\" >Status</th>        <th class=\"col_heading level0 col9\" >Rural Status</th>        <th class=\"col_heading level0 col10\" >Designation Date</th>        <th class=\"col_heading level0 col11\" >Update Date</th>    </tr></thead><tbody>\n",
       "                <tr>\n",
       "                        <th id=\"T_b4f79_level0_row0\" class=\"row_heading level0 row0\" >0</th>\n",
       "                        <td id=\"T_b4f79_row0_col0\" class=\"data row0 col0\" >Primary Care</td>\n",
       "                        <td id=\"T_b4f79_row0_col1\" class=\"data row0 col1\" >1016018546</td>\n",
       "                        <td id=\"T_b4f79_row0_col2\" class=\"data row0 col2\" >LI-Marion County</td>\n",
       "                        <td id=\"T_b4f79_row0_col3\" class=\"data row0 col3\" >Low Income Population HPSA</td>\n",
       "                        <td id=\"T_b4f79_row0_col4\" class=\"data row0 col4\" >Alabama</td>\n",
       "                        <td id=\"T_b4f79_row0_col5\" class=\"data row0 col5\" >Marion County, AL</td>\n",
       "                        <td id=\"T_b4f79_row0_col6\" class=\"data row0 col6\" >1.673</td>\n",
       "                        <td id=\"T_b4f79_row0_col7\" class=\"data row0 col7\" >14</td>\n",
       "                        <td id=\"T_b4f79_row0_col8\" class=\"data row0 col8\" >Designated</td>\n",
       "                        <td id=\"T_b4f79_row0_col9\" class=\"data row0 col9\" >Rural</td>\n",
       "                        <td id=\"T_b4f79_row0_col10\" class=\"data row0 col10\" >06/22/2022</td>\n",
       "                        <td id=\"T_b4f79_row0_col11\" class=\"data row0 col11\" >06/22/2022</td>\n",
       "            </tr>\n",
       "            <tr>\n",
       "                        <th id=\"T_b4f79_level0_row1\" class=\"row_heading level0 row1\" >1</th>\n",
       "                        <td id=\"T_b4f79_row1_col0\" class=\"data row1 col0\" >nan</td>\n",
       "                        <td id=\"T_b4f79_row1_col1\" class=\"data row1 col1\" >Component State Name</td>\n",
       "                        <td id=\"T_b4f79_row1_col2\" class=\"data row1 col2\" >Component County Name</td>\n",
       "                        <td id=\"T_b4f79_row1_col3\" class=\"data row1 col3\" >Component Name</td>\n",
       "                        <td id=\"T_b4f79_row1_col4\" class=\"data row1 col4\" >Component Type</td>\n",
       "                        <td id=\"T_b4f79_row1_col5\" class=\"data row1 col5\" >Component GEOID</td>\n",
       "                        <td id=\"T_b4f79_row1_col6\" class=\"data row1 col6\" >Component Rural Status</td>\n",
       "                        <td id=\"T_b4f79_row1_col7\" class=\"data row1 col7\" >nan</td>\n",
       "                        <td id=\"T_b4f79_row1_col8\" class=\"data row1 col8\" >nan</td>\n",
       "                        <td id=\"T_b4f79_row1_col9\" class=\"data row1 col9\" >nan</td>\n",
       "                        <td id=\"T_b4f79_row1_col10\" class=\"data row1 col10\" >nan</td>\n",
       "                        <td id=\"T_b4f79_row1_col11\" class=\"data row1 col11\" >nan</td>\n",
       "            </tr>\n",
       "            <tr>\n",
       "                        <th id=\"T_b4f79_level0_row2\" class=\"row_heading level0 row2\" >2</th>\n",
       "                        <td id=\"T_b4f79_row2_col0\" class=\"data row2 col0\" >nan</td>\n",
       "                        <td id=\"T_b4f79_row2_col1\" class=\"data row2 col1\" >Alabama</td>\n",
       "                        <td id=\"T_b4f79_row2_col2\" class=\"data row2 col2\" >Marion</td>\n",
       "                        <td id=\"T_b4f79_row2_col3\" class=\"data row2 col3\" >Marion</td>\n",
       "                        <td id=\"T_b4f79_row2_col4\" class=\"data row2 col4\" >Single County</td>\n",
       "                        <td id=\"T_b4f79_row2_col5\" class=\"data row2 col5\" >01093</td>\n",
       "                        <td id=\"T_b4f79_row2_col6\" class=\"data row2 col6\" >Rural</td>\n",
       "                        <td id=\"T_b4f79_row2_col7\" class=\"data row2 col7\" >nan</td>\n",
       "                        <td id=\"T_b4f79_row2_col8\" class=\"data row2 col8\" >nan</td>\n",
       "                        <td id=\"T_b4f79_row2_col9\" class=\"data row2 col9\" >nan</td>\n",
       "                        <td id=\"T_b4f79_row2_col10\" class=\"data row2 col10\" >nan</td>\n",
       "                        <td id=\"T_b4f79_row2_col11\" class=\"data row2 col11\" >nan</td>\n",
       "            </tr>\n",
       "            <tr>\n",
       "                        <th id=\"T_b4f79_level0_row3\" class=\"row_heading level0 row3\" >3</th>\n",
       "                        <td id=\"T_b4f79_row3_col0\" class=\"data row3 col0\" >Primary Care</td>\n",
       "                        <td id=\"T_b4f79_row3_col1\" class=\"data row3 col1\" >1019011119</td>\n",
       "                        <td id=\"T_b4f79_row3_col2\" class=\"data row3 col2\" >Perry County</td>\n",
       "                        <td id=\"T_b4f79_row3_col3\" class=\"data row3 col3\" >High Needs Geographic HPSA</td>\n",
       "                        <td id=\"T_b4f79_row3_col4\" class=\"data row3 col4\" >Alabama</td>\n",
       "                        <td id=\"T_b4f79_row3_col5\" class=\"data row3 col5\" >Perry County, AL</td>\n",
       "                        <td id=\"T_b4f79_row3_col6\" class=\"data row3 col6\" >0.87</td>\n",
       "                        <td id=\"T_b4f79_row3_col7\" class=\"data row3 col7\" >19</td>\n",
       "                        <td id=\"T_b4f79_row3_col8\" class=\"data row3 col8\" >Designated</td>\n",
       "                        <td id=\"T_b4f79_row3_col9\" class=\"data row3 col9\" >Rural</td>\n",
       "                        <td id=\"T_b4f79_row3_col10\" class=\"data row3 col10\" >01/15/1979</td>\n",
       "                        <td id=\"T_b4f79_row3_col11\" class=\"data row3 col11\" >09/08/2021</td>\n",
       "            </tr>\n",
       "            <tr>\n",
       "                        <th id=\"T_b4f79_level0_row4\" class=\"row_heading level0 row4\" >4</th>\n",
       "                        <td id=\"T_b4f79_row4_col0\" class=\"data row4 col0\" >nan</td>\n",
       "                        <td id=\"T_b4f79_row4_col1\" class=\"data row4 col1\" >Component State Name</td>\n",
       "                        <td id=\"T_b4f79_row4_col2\" class=\"data row4 col2\" >Component County Name</td>\n",
       "                        <td id=\"T_b4f79_row4_col3\" class=\"data row4 col3\" >Component Name</td>\n",
       "                        <td id=\"T_b4f79_row4_col4\" class=\"data row4 col4\" >Component Type</td>\n",
       "                        <td id=\"T_b4f79_row4_col5\" class=\"data row4 col5\" >Component GEOID</td>\n",
       "                        <td id=\"T_b4f79_row4_col6\" class=\"data row4 col6\" >Component Rural Status</td>\n",
       "                        <td id=\"T_b4f79_row4_col7\" class=\"data row4 col7\" >nan</td>\n",
       "                        <td id=\"T_b4f79_row4_col8\" class=\"data row4 col8\" >nan</td>\n",
       "                        <td id=\"T_b4f79_row4_col9\" class=\"data row4 col9\" >nan</td>\n",
       "                        <td id=\"T_b4f79_row4_col10\" class=\"data row4 col10\" >nan</td>\n",
       "                        <td id=\"T_b4f79_row4_col11\" class=\"data row4 col11\" >nan</td>\n",
       "            </tr>\n",
       "    </tbody></table>"
      ],
      "text/plain": [
       "<pandas.io.formats.style.Styler at 0x229e1154648>"
      ]
     },
     "execution_count": 1,
     "metadata": {},
     "output_type": "execute_result"
    }
   ],
   "source": [
    "import pandas as pd\n",
    "import numpy as np\n",
    "import re \n",
    "np.set_printoptions(threshold=np.inf) #allows for greater print capabilities for troubleshooting\n",
    "peek_data=pd.read_excel(\"utility/data/HPSAdata/Hpsa_Find_Export.xlsx\",index_col=None,header=3)\n",
    "#header is 3 since that is the row the column titles are stored. \n",
    "\n",
    "peek_data.head().style"
   ]
  },
  {
   "cell_type": "markdown",
   "id": "7640f201",
   "metadata": {},
   "source": [
    "Note above that there are various rows with extraneous information. However, the Component GEOID, a unique identifier for each county in the US also known as FIPS, is not extraneous and will need to be extracted. This is important since the GEOID is the identifier we will use to merge new features (eg. unemployment rates by county) into the dataset using SQL later. \n",
    "\n",
    "Closer review of the table shows that some FIPS codes not provided in lieu of ZIP codes, which are useless to us. Luckily, these entries also give us the county name alongside the ZIP code. Therefore, before we code a method to clean our data, we will create a dictionary to find FIPS codes from county names when they are not already provided."
   ]
  },
  {
   "cell_type": "code",
   "execution_count": 2,
   "id": "7c25caf3",
   "metadata": {},
   "outputs": [],
   "source": [
    "#Creating a dictionary of county names to FIPS codes\n",
    "\n",
    "#Formatting our data to enter into a dictionary\n",
    "url='https://www.mdreducation.com/pdfs/US_FIPS_Codes.xls'\n",
    "FIPS_Map = pd.read_excel(url, header =1, dtype={'FIPS State': str, 'FIPS County': str})\n",
    "FIPS_Map['FIPS Code'] = FIPS_Map['FIPS State'] + FIPS_Map['FIPS County'] \n",
    "\n",
    "#loading county names and FIPS codes into a dictionary\n",
    "CountyDict = dict(zip(FIPS_Map['County Name'],FIPS_Map['FIPS Code']))"
   ]
  },
  {
   "cell_type": "markdown",
   "id": "0686504a",
   "metadata": {},
   "source": [
    "Now that we have a dictionary of county names to FIPS codes, we can code in our general cleaning method. "
   ]
  },
  {
   "cell_type": "code",
   "execution_count": 3,
   "id": "6d318a0c",
   "metadata": {},
   "outputs": [],
   "source": [
    "def clean(data): # drops unnecessary rows and columns and generates new GEOID column\n",
    "    \n",
    "    GeoIDs=[]\n",
    "    \n",
    "    for i in range(len(data['County Name'])): #locates all geolocation codes and truncates them at 5 digits\n",
    "        \n",
    "        string=str(data['County Name'][i]).casefold() #gets table title to determine if geolocation code was provided.\n",
    "        \n",
    "        if (('geoid' in string)): #Geolocation code was properly provided and added to new column\n",
    "            GeoIDs.append(data['County Name'][i+1][:5])\n",
    "            continue\n",
    "            \n",
    "        if (('zip' in string)): #ZIP code was provided. Geolocation code was found from county name. \n",
    "            CountyName = data['HPSA FTE Short'][i+1]\n",
    "            GeoIDs.append(CountyDict.get(CountyName))\n",
    "            continue\n",
    "    \n",
    "    data=data.loc[pd.to_numeric(data.iloc[:,7],errors='coerce').notna()]\n",
    "    #Converts HPSA scores to numeric values and drops all rows where the score is not numeric\n",
    "    #Dropped rows include titles and blank rows\n",
    "\n",
    "    data=data.reset_index(drop=True)\n",
    "    #renumbering our rows after dropping unnecessary ones\n",
    "\n",
    "    data=data.iloc[:,[2,3,4,5,7,9]]\n",
    "    #drops the ID, status, and two date categories, as these are logistical in nature.\n",
    "    #drops discipline since all pulled data is from Primary Care only\n",
    "    #Drops HPSA FTE Short since this only exists for regions experiencing dire shortages (And is therefore biased)\n",
    "    \n",
    "    data['FIPS'] = GeoIDs \n",
    "    #Adds the geolocation codes (aka FIPS codes) as a column to the table\n",
    "    \n",
    "    return data"
   ]
  },
  {
   "cell_type": "code",
   "execution_count": 4,
   "id": "cd8ff85c",
   "metadata": {
    "scrolled": true
   },
   "outputs": [
    {
     "data": {
      "text/html": [
       "<style  type=\"text/css\" >\n",
       "</style><table id=\"T_57610_\" ><thead>    <tr>        <th class=\"blank level0\" ></th>        <th class=\"col_heading level0 col0\" >HPSA Name</th>        <th class=\"col_heading level0 col1\" >Designation Type</th>        <th class=\"col_heading level0 col2\" >Primary State Name</th>        <th class=\"col_heading level0 col3\" >County Name</th>        <th class=\"col_heading level0 col4\" >HPSA Score</th>        <th class=\"col_heading level0 col5\" >Rural Status</th>        <th class=\"col_heading level0 col6\" >FIPS</th>    </tr></thead><tbody>\n",
       "                <tr>\n",
       "                        <th id=\"T_57610_level0_row0\" class=\"row_heading level0 row0\" >0</th>\n",
       "                        <td id=\"T_57610_row0_col0\" class=\"data row0 col0\" >LI-Marion County</td>\n",
       "                        <td id=\"T_57610_row0_col1\" class=\"data row0 col1\" >Low Income Population HPSA</td>\n",
       "                        <td id=\"T_57610_row0_col2\" class=\"data row0 col2\" >Alabama</td>\n",
       "                        <td id=\"T_57610_row0_col3\" class=\"data row0 col3\" >Marion County, AL</td>\n",
       "                        <td id=\"T_57610_row0_col4\" class=\"data row0 col4\" >14</td>\n",
       "                        <td id=\"T_57610_row0_col5\" class=\"data row0 col5\" >Rural</td>\n",
       "                        <td id=\"T_57610_row0_col6\" class=\"data row0 col6\" >01093</td>\n",
       "            </tr>\n",
       "            <tr>\n",
       "                        <th id=\"T_57610_level0_row1\" class=\"row_heading level0 row1\" >1</th>\n",
       "                        <td id=\"T_57610_row1_col0\" class=\"data row1 col0\" >Perry County</td>\n",
       "                        <td id=\"T_57610_row1_col1\" class=\"data row1 col1\" >High Needs Geographic HPSA</td>\n",
       "                        <td id=\"T_57610_row1_col2\" class=\"data row1 col2\" >Alabama</td>\n",
       "                        <td id=\"T_57610_row1_col3\" class=\"data row1 col3\" >Perry County, AL</td>\n",
       "                        <td id=\"T_57610_row1_col4\" class=\"data row1 col4\" >19</td>\n",
       "                        <td id=\"T_57610_row1_col5\" class=\"data row1 col5\" >Rural</td>\n",
       "                        <td id=\"T_57610_row1_col6\" class=\"data row1 col6\" >01105</td>\n",
       "            </tr>\n",
       "            <tr>\n",
       "                        <th id=\"T_57610_level0_row2\" class=\"row_heading level0 row2\" >2</th>\n",
       "                        <td id=\"T_57610_row2_col0\" class=\"data row2 col0\" >Marengo County</td>\n",
       "                        <td id=\"T_57610_row2_col1\" class=\"data row2 col1\" >High Needs Geographic HPSA</td>\n",
       "                        <td id=\"T_57610_row2_col2\" class=\"data row2 col2\" >Alabama</td>\n",
       "                        <td id=\"T_57610_row2_col3\" class=\"data row2 col3\" >Marengo County, AL</td>\n",
       "                        <td id=\"T_57610_row2_col4\" class=\"data row2 col4\" >19</td>\n",
       "                        <td id=\"T_57610_row2_col5\" class=\"data row2 col5\" >Rural</td>\n",
       "                        <td id=\"T_57610_row2_col6\" class=\"data row2 col6\" >01091</td>\n",
       "            </tr>\n",
       "            <tr>\n",
       "                        <th id=\"T_57610_level0_row3\" class=\"row_heading level0 row3\" >3</th>\n",
       "                        <td id=\"T_57610_row3_col0\" class=\"data row3 col0\" >Wilcox County</td>\n",
       "                        <td id=\"T_57610_row3_col1\" class=\"data row3 col1\" >High Needs Geographic HPSA</td>\n",
       "                        <td id=\"T_57610_row3_col2\" class=\"data row3 col2\" >Alabama</td>\n",
       "                        <td id=\"T_57610_row3_col3\" class=\"data row3 col3\" >Wilcox County, AL</td>\n",
       "                        <td id=\"T_57610_row3_col4\" class=\"data row3 col4\" >21</td>\n",
       "                        <td id=\"T_57610_row3_col5\" class=\"data row3 col5\" >Rural</td>\n",
       "                        <td id=\"T_57610_row3_col6\" class=\"data row3 col6\" >01131</td>\n",
       "            </tr>\n",
       "            <tr>\n",
       "                        <th id=\"T_57610_level0_row4\" class=\"row_heading level0 row4\" >4</th>\n",
       "                        <td id=\"T_57610_row4_col0\" class=\"data row4 col0\" >Bullock County</td>\n",
       "                        <td id=\"T_57610_row4_col1\" class=\"data row4 col1\" >High Needs Geographic HPSA</td>\n",
       "                        <td id=\"T_57610_row4_col2\" class=\"data row4 col2\" >Alabama</td>\n",
       "                        <td id=\"T_57610_row4_col3\" class=\"data row4 col3\" >Bullock County, AL</td>\n",
       "                        <td id=\"T_57610_row4_col4\" class=\"data row4 col4\" >22</td>\n",
       "                        <td id=\"T_57610_row4_col5\" class=\"data row4 col5\" >Rural</td>\n",
       "                        <td id=\"T_57610_row4_col6\" class=\"data row4 col6\" >01011</td>\n",
       "            </tr>\n",
       "    </tbody></table>"
      ],
      "text/plain": [
       "<pandas.io.formats.style.Styler at 0x229e45bb4c8>"
      ]
     },
     "execution_count": 4,
     "metadata": {},
     "output_type": "execute_result"
    }
   ],
   "source": [
    "peek_data=clean(peek_data)\n",
    "peek_data.head().style"
   ]
  },
  {
   "cell_type": "markdown",
   "id": "f02000cd",
   "metadata": {},
   "source": [
    "As seen in the above, our data has been cleaned and a FIPS column has been added! Now that we've created and tested a method to appropriately clean and structure our datasets, we will proceed to wrangle all 50 state datasets together. "
   ]
  },
  {
   "cell_type": "code",
   "execution_count": 5,
   "id": "b541a264",
   "metadata": {
    "scrolled": true
   },
   "outputs": [
    {
     "name": "stdout",
     "output_type": "stream",
     "text": [
      "50 datasets were successfully concatenated with a final shape of (6804, 7)\n"
     ]
    }
   ],
   "source": [
    "import os \n",
    "\n",
    "directory = 'utility/data/HPSAdata'\n",
    "data = pd.DataFrame()\n",
    "counter=0 \n",
    "\n",
    "for filename in os.listdir(directory):\n",
    "    \n",
    "    path = os.path.join(directory, filename) #generate file path\n",
    "    \n",
    "    if os.path.isfile(path):\n",
    "        state_data=pd.read_excel(path,index_col=None,header=3) #import\n",
    "        state_data=clean(state_data)\n",
    "        data=pd.concat([data,state_data]) #add to existing data\n",
    "        \n",
    "        counter+=1\n",
    "\n",
    "\n",
    "print (str(counter) + ' datasets were successfully concatenated with a final shape of ' + str(data.shape))\n",
    "        \n",
    "        "
   ]
  }
 ],
 "metadata": {
  "kernelspec": {
   "display_name": "Python 3",
   "language": "python",
   "name": "python3"
  },
  "language_info": {
   "codemirror_mode": {
    "name": "ipython",
    "version": 3
   },
   "file_extension": ".py",
   "mimetype": "text/x-python",
   "name": "python",
   "nbconvert_exporter": "python",
   "pygments_lexer": "ipython3",
   "version": "3.7.11"
  }
 },
 "nbformat": 4,
 "nbformat_minor": 5
}
